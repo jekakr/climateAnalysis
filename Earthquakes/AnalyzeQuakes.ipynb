{
 "metadata": {
  "name": "AnalyzeQuakes"
 }, 
 "nbformat": 2, 
 "worksheets": [
  {
   "cells": [
    {
     "cell_type": "code", 
     "collapsed": true, 
     "input": [
      "import numpy as np", 
      "import matplotlib.pyplot as plt", 
      "from sets import Set", 
      "import csv", 
      "import collections", 
      "from collections import OrderedDict", 
      "", 
      "infile = open(\"data\",\"r\") ## read the data file", 
      "content = infile.read()", 
      "infile.close()", 
      "lines = content.split('\\n') ## split up lines", 
      "#print lines", 
      "", 
      "data = []", 
      "for each in lines:  ## split each line into separate strings", 
      "    if len(each) < 1:", 
      "        continue          ## get rid of the empty list at the end", 
      "    temp = each.split()", 
      "    dec = int(temp[0]) // 10 * 10", 
      "## data contains lists of data for each year", 
      "    data.append({'year':int(temp[0]), 'lat':float(temp[1]), 'lon':float(temp[2]), 'depth':float(temp[3]), 'mag':float(temp[4]), 'dec':dec})     ", 
      "#print data", 
      "## data contains year, lattitude, longitude, depth, magnitude and decade it occurs in "
     ], 
     "language": "python", 
     "outputs": [], 
     "prompt_number": 1
    }, 
    {
     "cell_type": "code", 
     "collapsed": false, 
     "input": [
      "import math", 
      "", 
      "#import sys", 
      "#center = list(raw_input('Enter lattitude, longitude to compute distance from')) ", 
      "#dates = list(raw_input('Enter start year, end year (between 1900 and 2008)'))", 
      "#thr_in = float(raw_input('Enter the magnitude threshold'))", 
      "", 
      "#start = dates[0]", 
      "#end = dates[1]", 
      "#thr = float(thr_in)", 
      "seattle = [47.62, -122.333]", 
      "start = 1900", 
      "end = 2008", 
      "thr = 5.0", 
      "", 
      "allQuakes = []", 
      "for each in data:", 
      "    if each['year'] >= start and each['year'] <= end:", 
      "        if each['mag'] >= thr:", 
      "            allQuakes.append(each)", 
      "            ", 
      "def distance(origin, destination):  ## function to compute ", 
      "    lat1, lon1 = origin             ## distance between two coordinates", 
      "    lat2, lon2 = destination", 
      "    radius = 6373.0 # km", 
      "", 
      "    dlat = math.radians(lat2-lat1)", 
      "    dlon = math.radians(lon2-lon1)", 
      "    a = math.sin(dlat/2) * math.sin(dlat/2) + math.cos(math.radians(lat1)) * math.cos(math.radians(lat2)) * math.sin(dlon/2) * math.sin(dlon/2)", 
      "    c = 2 * math.atan2(math.sqrt(a), math.sqrt(1-a))", 
      "    d = (radius * c)/1.6 # in miles", 
      "    ", 
      "    return d", 
      "", 
      "## IMPORTANT: change seattle to center for user input", 
      "centerLoc = seattle", 
      "neighborQuake = {}", 
      "for each in allQuakes:", 
      "    quakeLoc = [each['lat'], each['lon']]", 
      "    quakeMag = each['mag']", 
      "    quakeYear = each['year']", 
      "    dist = distance(centerLoc, quakeLoc)", 
      "    if dist <= 100:", 
      "        neighborQuake[quakeYear] = [quakeMag, tuple(quakeLoc)]", 
      "        ", 
      "orderedYears = sorted(neighborQuake.keys())", 
      "for year in orderedYears:", 
      "    print \"In year \"+ str(year)+ \" earthquake of magnitude \"+ str(neighborQuake[year][0])+ \" struck at location \"+str(neighborQuake[year][1])", 
      "    ", 
      "print 'There were ' + str(len(neighborQuake)) + ' earthquakes of magnitude ' + str(thr) + ' or higher between the years ' + str(start) + ' and ' + str(end) + ' within 100 miles of the location '+str(tuple(centerLoc))"
     ], 
     "language": "python", 
     "outputs": [
      {
       "output_type": "stream", 
       "stream": "stdout", 
       "text": [
        "In year 1949 earthquake of magnitude 6.5 struck at location (47.1, -122.39)", 
        "In year 1965 earthquake of magnitude 6.5 struck at location (47.3, -122.33)", 
        "In year 1980 earthquake of magnitude 5.5 struck at location (46.3, -121.99)", 
        "In year 1996 earthquake of magnitude 5.8 struck at location (47.8, -121.74)", 
        "In year 1999 earthquake of magnitude 5.6 struck at location (47.0, -123.23)", 
        "In year 2001 earthquake of magnitude 6.8 struck at location (47.0, -122.58)", 
        "There were 6 earthquakes of magnitude 5.0 or higher between the years 1900 and 2008 within 100 miles of the location (47.62, -122.333)"
       ]
      }
     ], 
     "prompt_number": 2
    }, 
    {
     "cell_type": "code", 
     "collapsed": false, 
     "input": [
      "## find how many earthquakes occur each decade with magnitude above 5 and ", 
      "## plot average magnitude on bubble chart with frequency represented by the", 
      "## size of the bubble", 
      "", 
      "avgMagDepthFreq = {}", 
      "decade = 1900", 
      "while decade <= 2000:", 
      "    count = 0", 
      "    avgMag = 0", 
      "    avgDepth = 0", 
      "    for each in data:", 
      "        if each['mag'] >= 5.0:", 
      "            if each['dec'] == decade:", 
      "                count += 1", 
      "                avgMag += each['mag']", 
      "                avgDepth += each['depth']", 
      "    avgMag = round(avgMag/count, 2)  ", 
      "    avgDepth = round(avgDepth/count, 2) ", 
      "    avgMagDepthFreq[decade] = [avgMag, avgDepth, count]", 
      "    decade += 10", 
      "print avgMagDepthFreq"
     ], 
     "language": "python", 
     "outputs": [
      {
       "output_type": "stream", 
       "stream": "stdout", 
       "text": [
        "{1920: [6.94, 71.58, 315], 1990: [5.99, 74.16, 2710], 1960: [6.02, 72.44, 1624], 1930: [6.93, 76.0, 378], 1900: [7.03, 49.13, 288], 2000: [6.19, 76.39, 1629], 1970: [5.92, 73.88, 2793], 1940: [6.92, 89.82, 466], 1910: [7.03, 80.0, 323], 1980: [5.98, 76.49, 2564], 1950: [6.84, 90.19, 451]}"
       ]
      }
     ], 
     "prompt_number": 3
    }, 
    {
     "cell_type": "code", 
     "collapsed": false, 
     "input": [
      "orderedKeys = sorted(avgMagDepthFreq.keys())", 
      "for key in orderedKeys:", 
      "    print [str(avgMagDepthFreq[key][2]),key,avgMagDepthFreq[key][0],avgMagDepthFreq[key][1],avgMagDepthFreq[key][2]]"
     ], 
     "language": "python", 
     "outputs": [
      {
       "output_type": "stream", 
       "stream": "stdout", 
       "text": [
        "['288', 1900, 7.03, 49.13, 288]", 
        "['323', 1910, 7.03, 80.0, 323]", 
        "['315', 1920, 6.94, 71.58, 315]", 
        "['378', 1930, 6.93, 76.0, 378]", 
        "['466', 1940, 6.92, 89.82, 466]", 
        "['451', 1950, 6.84, 90.19, 451]", 
        "['1624', 1960, 6.02, 72.44, 1624]", 
        "['2793', 1970, 5.92, 73.88, 2793]", 
        "['2564', 1980, 5.98, 76.49, 2564]", 
        "['2710', 1990, 5.99, 74.16, 2710]", 
        "['1629', 2000, 6.19, 76.39, 1629]"
       ]
      }
     ], 
     "prompt_number": 5
    }, 
    {
     "cell_type": "code", 
     "collapsed": true, 
     "input": [], 
     "language": "python", 
     "outputs": []
    }
   ]
  }
 ]
}